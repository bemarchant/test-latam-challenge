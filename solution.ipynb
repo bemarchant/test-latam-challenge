{
 "cells": [
  {
   "attachments": {},
   "cell_type": "markdown",
   "metadata": {},
   "source": [
    "## Background"
   ]
  },
  {
   "attachments": {},
   "cell_type": "markdown",
   "metadata": {},
   "source": [
    "Here we'll predict the probability of delay of the flights that land or take off from the airport of Santiago de Chile (SCL). This document covers data manipulation, machine learning and visualization of results.\n",
    "\n",
    "This analysis is fully based in Python's libraries. It used pandas and numpy for data manipulation, matplotlib and seaborn for visualization and sklearn for machine learning."
   ]
  },
  {
   "cell_type": "code",
   "execution_count": 1,
   "metadata": {},
   "outputs": [],
   "source": [
    "import numpy as np\n",
    "import pandas as pd\n",
    "import matplotlib.pylab as plt\n",
    "import seaborn as sns\n",
    "import sklearn as sk"
   ]
  },
  {
   "cell_type": "code",
   "execution_count": null,
   "metadata": {},
   "outputs": [],
   "source": [
    "df = pd.read_csv('dataset_SCL.csv')"
   ]
  },
  {
   "attachments": {},
   "cell_type": "markdown",
   "metadata": {},
   "source": [
    "## Exploring the data 🔍"
   ]
  },
  {
   "attachments": {},
   "cell_type": "markdown",
   "metadata": {},
   "source": [
    "Let's take a brief look into the data"
   ]
  },
  {
   "cell_type": "code",
   "execution_count": 23,
   "metadata": {},
   "outputs": [
    {
     "data": {
      "text/html": [
       "<div>\n",
       "<style scoped>\n",
       "    .dataframe tbody tr th:only-of-type {\n",
       "        vertical-align: middle;\n",
       "    }\n",
       "\n",
       "    .dataframe tbody tr th {\n",
       "        vertical-align: top;\n",
       "    }\n",
       "\n",
       "    .dataframe thead th {\n",
       "        text-align: right;\n",
       "    }\n",
       "</style>\n",
       "<table border=\"1\" class=\"dataframe\">\n",
       "  <thead>\n",
       "    <tr style=\"text-align: right;\">\n",
       "      <th></th>\n",
       "      <th>Fecha-I</th>\n",
       "      <th>Vlo-I</th>\n",
       "      <th>Ori-I</th>\n",
       "      <th>Des-I</th>\n",
       "      <th>Emp-I</th>\n",
       "      <th>Fecha-O</th>\n",
       "      <th>Vlo-O</th>\n",
       "      <th>Ori-O</th>\n",
       "      <th>Des-O</th>\n",
       "      <th>Emp-O</th>\n",
       "      <th>DIA</th>\n",
       "      <th>MES</th>\n",
       "      <th>AÑO</th>\n",
       "      <th>DIANOM</th>\n",
       "      <th>TIPOVUELO</th>\n",
       "      <th>OPERA</th>\n",
       "      <th>SIGLAORI</th>\n",
       "      <th>SIGLADES</th>\n",
       "    </tr>\n",
       "  </thead>\n",
       "  <tbody>\n",
       "    <tr>\n",
       "      <th>0</th>\n",
       "      <td>2017-01-01 23:30:00</td>\n",
       "      <td>226</td>\n",
       "      <td>SCEL</td>\n",
       "      <td>KMIA</td>\n",
       "      <td>AAL</td>\n",
       "      <td>2017-01-01 23:33:00</td>\n",
       "      <td>226</td>\n",
       "      <td>SCEL</td>\n",
       "      <td>KMIA</td>\n",
       "      <td>AAL</td>\n",
       "      <td>1</td>\n",
       "      <td>1</td>\n",
       "      <td>2017</td>\n",
       "      <td>Domingo</td>\n",
       "      <td>I</td>\n",
       "      <td>American Airlines</td>\n",
       "      <td>Santiago</td>\n",
       "      <td>Miami</td>\n",
       "    </tr>\n",
       "    <tr>\n",
       "      <th>1</th>\n",
       "      <td>2017-01-02 23:30:00</td>\n",
       "      <td>226</td>\n",
       "      <td>SCEL</td>\n",
       "      <td>KMIA</td>\n",
       "      <td>AAL</td>\n",
       "      <td>2017-01-02 23:39:00</td>\n",
       "      <td>226</td>\n",
       "      <td>SCEL</td>\n",
       "      <td>KMIA</td>\n",
       "      <td>AAL</td>\n",
       "      <td>2</td>\n",
       "      <td>1</td>\n",
       "      <td>2017</td>\n",
       "      <td>Lunes</td>\n",
       "      <td>I</td>\n",
       "      <td>American Airlines</td>\n",
       "      <td>Santiago</td>\n",
       "      <td>Miami</td>\n",
       "    </tr>\n",
       "    <tr>\n",
       "      <th>2</th>\n",
       "      <td>2017-01-03 23:30:00</td>\n",
       "      <td>226</td>\n",
       "      <td>SCEL</td>\n",
       "      <td>KMIA</td>\n",
       "      <td>AAL</td>\n",
       "      <td>2017-01-03 23:39:00</td>\n",
       "      <td>226</td>\n",
       "      <td>SCEL</td>\n",
       "      <td>KMIA</td>\n",
       "      <td>AAL</td>\n",
       "      <td>3</td>\n",
       "      <td>1</td>\n",
       "      <td>2017</td>\n",
       "      <td>Martes</td>\n",
       "      <td>I</td>\n",
       "      <td>American Airlines</td>\n",
       "      <td>Santiago</td>\n",
       "      <td>Miami</td>\n",
       "    </tr>\n",
       "    <tr>\n",
       "      <th>3</th>\n",
       "      <td>2017-01-04 23:30:00</td>\n",
       "      <td>226</td>\n",
       "      <td>SCEL</td>\n",
       "      <td>KMIA</td>\n",
       "      <td>AAL</td>\n",
       "      <td>2017-01-04 23:33:00</td>\n",
       "      <td>226</td>\n",
       "      <td>SCEL</td>\n",
       "      <td>KMIA</td>\n",
       "      <td>AAL</td>\n",
       "      <td>4</td>\n",
       "      <td>1</td>\n",
       "      <td>2017</td>\n",
       "      <td>Miercoles</td>\n",
       "      <td>I</td>\n",
       "      <td>American Airlines</td>\n",
       "      <td>Santiago</td>\n",
       "      <td>Miami</td>\n",
       "    </tr>\n",
       "    <tr>\n",
       "      <th>4</th>\n",
       "      <td>2017-01-05 23:30:00</td>\n",
       "      <td>226</td>\n",
       "      <td>SCEL</td>\n",
       "      <td>KMIA</td>\n",
       "      <td>AAL</td>\n",
       "      <td>2017-01-05 23:28:00</td>\n",
       "      <td>226</td>\n",
       "      <td>SCEL</td>\n",
       "      <td>KMIA</td>\n",
       "      <td>AAL</td>\n",
       "      <td>5</td>\n",
       "      <td>1</td>\n",
       "      <td>2017</td>\n",
       "      <td>Jueves</td>\n",
       "      <td>I</td>\n",
       "      <td>American Airlines</td>\n",
       "      <td>Santiago</td>\n",
       "      <td>Miami</td>\n",
       "    </tr>\n",
       "  </tbody>\n",
       "</table>\n",
       "</div>"
      ],
      "text/plain": [
       "               Fecha-I Vlo-I Ori-I Des-I Emp-I              Fecha-O Vlo-O  \\\n",
       "0  2017-01-01 23:30:00   226  SCEL  KMIA   AAL  2017-01-01 23:33:00   226   \n",
       "1  2017-01-02 23:30:00   226  SCEL  KMIA   AAL  2017-01-02 23:39:00   226   \n",
       "2  2017-01-03 23:30:00   226  SCEL  KMIA   AAL  2017-01-03 23:39:00   226   \n",
       "3  2017-01-04 23:30:00   226  SCEL  KMIA   AAL  2017-01-04 23:33:00   226   \n",
       "4  2017-01-05 23:30:00   226  SCEL  KMIA   AAL  2017-01-05 23:28:00   226   \n",
       "\n",
       "  Ori-O Des-O Emp-O  DIA  MES   AÑO     DIANOM TIPOVUELO              OPERA  \\\n",
       "0  SCEL  KMIA   AAL    1    1  2017    Domingo         I  American Airlines   \n",
       "1  SCEL  KMIA   AAL    2    1  2017      Lunes         I  American Airlines   \n",
       "2  SCEL  KMIA   AAL    3    1  2017     Martes         I  American Airlines   \n",
       "3  SCEL  KMIA   AAL    4    1  2017  Miercoles         I  American Airlines   \n",
       "4  SCEL  KMIA   AAL    5    1  2017     Jueves         I  American Airlines   \n",
       "\n",
       "   SIGLAORI SIGLADES  \n",
       "0  Santiago    Miami  \n",
       "1  Santiago    Miami  \n",
       "2  Santiago    Miami  \n",
       "3  Santiago    Miami  \n",
       "4  Santiago    Miami  "
      ]
     },
     "execution_count": 23,
     "metadata": {},
     "output_type": "execute_result"
    }
   ],
   "source": [
    "df.head(5)"
   ]
  },
  {
   "cell_type": "code",
   "execution_count": 27,
   "metadata": {},
   "outputs": [
    {
     "name": "stdout",
     "output_type": "stream",
     "text": [
      "<class 'pandas.core.frame.DataFrame'>\n",
      "RangeIndex: 68206 entries, 0 to 68205\n",
      "Data columns (total 18 columns):\n",
      " #   Column     Non-Null Count  Dtype \n",
      "---  ------     --------------  ----- \n",
      " 0   Fecha-I    68206 non-null  object\n",
      " 1   Vlo-I      68206 non-null  object\n",
      " 2   Ori-I      68206 non-null  object\n",
      " 3   Des-I      68206 non-null  object\n",
      " 4   Emp-I      68206 non-null  object\n",
      " 5   Fecha-O    68206 non-null  object\n",
      " 6   Vlo-O      68205 non-null  object\n",
      " 7   Ori-O      68206 non-null  object\n",
      " 8   Des-O      68206 non-null  object\n",
      " 9   Emp-O      68206 non-null  object\n",
      " 10  DIA        68206 non-null  int64 \n",
      " 11  MES        68206 non-null  int64 \n",
      " 12  AÑO        68206 non-null  int64 \n",
      " 13  DIANOM     68206 non-null  object\n",
      " 14  TIPOVUELO  68206 non-null  object\n",
      " 15  OPERA      68206 non-null  object\n",
      " 16  SIGLAORI   68206 non-null  object\n",
      " 17  SIGLADES   68206 non-null  object\n",
      "dtypes: int64(3), object(15)\n",
      "memory usage: 9.4+ MB\n"
     ]
    }
   ],
   "source": [
    "df.info()"
   ]
  },
  {
   "cell_type": "code",
   "execution_count": 28,
   "metadata": {},
   "outputs": [
    {
     "data": {
      "text/html": [
       "<div>\n",
       "<style scoped>\n",
       "    .dataframe tbody tr th:only-of-type {\n",
       "        vertical-align: middle;\n",
       "    }\n",
       "\n",
       "    .dataframe tbody tr th {\n",
       "        vertical-align: top;\n",
       "    }\n",
       "\n",
       "    .dataframe thead th {\n",
       "        text-align: right;\n",
       "    }\n",
       "</style>\n",
       "<table border=\"1\" class=\"dataframe\">\n",
       "  <thead>\n",
       "    <tr style=\"text-align: right;\">\n",
       "      <th></th>\n",
       "      <th>DIA</th>\n",
       "      <th>MES</th>\n",
       "      <th>AÑO</th>\n",
       "    </tr>\n",
       "  </thead>\n",
       "  <tbody>\n",
       "    <tr>\n",
       "      <th>count</th>\n",
       "      <td>68206.000000</td>\n",
       "      <td>68206.000000</td>\n",
       "      <td>68206.000000</td>\n",
       "    </tr>\n",
       "    <tr>\n",
       "      <th>mean</th>\n",
       "      <td>15.714790</td>\n",
       "      <td>6.622585</td>\n",
       "      <td>2017.000029</td>\n",
       "    </tr>\n",
       "    <tr>\n",
       "      <th>std</th>\n",
       "      <td>8.782886</td>\n",
       "      <td>3.523321</td>\n",
       "      <td>0.005415</td>\n",
       "    </tr>\n",
       "    <tr>\n",
       "      <th>min</th>\n",
       "      <td>1.000000</td>\n",
       "      <td>1.000000</td>\n",
       "      <td>2017.000000</td>\n",
       "    </tr>\n",
       "    <tr>\n",
       "      <th>25%</th>\n",
       "      <td>8.000000</td>\n",
       "      <td>3.000000</td>\n",
       "      <td>2017.000000</td>\n",
       "    </tr>\n",
       "    <tr>\n",
       "      <th>50%</th>\n",
       "      <td>16.000000</td>\n",
       "      <td>7.000000</td>\n",
       "      <td>2017.000000</td>\n",
       "    </tr>\n",
       "    <tr>\n",
       "      <th>75%</th>\n",
       "      <td>23.000000</td>\n",
       "      <td>10.000000</td>\n",
       "      <td>2017.000000</td>\n",
       "    </tr>\n",
       "    <tr>\n",
       "      <th>max</th>\n",
       "      <td>31.000000</td>\n",
       "      <td>12.000000</td>\n",
       "      <td>2018.000000</td>\n",
       "    </tr>\n",
       "  </tbody>\n",
       "</table>\n",
       "</div>"
      ],
      "text/plain": [
       "                DIA           MES           AÑO\n",
       "count  68206.000000  68206.000000  68206.000000\n",
       "mean      15.714790      6.622585   2017.000029\n",
       "std        8.782886      3.523321      0.005415\n",
       "min        1.000000      1.000000   2017.000000\n",
       "25%        8.000000      3.000000   2017.000000\n",
       "50%       16.000000      7.000000   2017.000000\n",
       "75%       23.000000     10.000000   2017.000000\n",
       "max       31.000000     12.000000   2018.000000"
      ]
     },
     "execution_count": 28,
     "metadata": {},
     "output_type": "execute_result"
    }
   ],
   "source": [
    "df.describe()"
   ]
  },
  {
   "attachments": {},
   "cell_type": "markdown",
   "metadata": {},
   "source": [
    "### Conclusions"
   ]
  },
  {
   "attachments": {},
   "cell_type": "markdown",
   "metadata": {},
   "source": [
    "1. More flights departure around the middle of the month and between months of July and August\n",
    "2. Data is majority **categorical** with DIA, MES and AÑO as **integers**\n",
    "3. Feature Vlo-O has one **missing value**"
   ]
  },
  {
   "attachments": {},
   "cell_type": "markdown",
   "metadata": {},
   "source": [
    "## Data management 🗃️"
   ]
  },
  {
   "attachments": {},
   "cell_type": "markdown",
   "metadata": {},
   "source": [
    "## Machine learning 🤖"
   ]
  }
 ],
 "metadata": {
  "kernelspec": {
   "display_name": "venv",
   "language": "python",
   "name": "python3"
  },
  "language_info": {
   "codemirror_mode": {
    "name": "ipython",
    "version": 3
   },
   "file_extension": ".py",
   "mimetype": "text/x-python",
   "name": "python",
   "nbconvert_exporter": "python",
   "pygments_lexer": "ipython3",
   "version": "3.10.6"
  },
  "orig_nbformat": 4,
  "vscode": {
   "interpreter": {
    "hash": "ece53990b29580d09753690ef486cd5b479a18b3dad7cf160285189a0327bfc5"
   }
  }
 },
 "nbformat": 4,
 "nbformat_minor": 2
}
